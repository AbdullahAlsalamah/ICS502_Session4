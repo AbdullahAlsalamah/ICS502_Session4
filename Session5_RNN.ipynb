{
 "cells": [
  {
   "cell_type": "code",
   "execution_count": 738,
   "metadata": {},
   "outputs": [],
   "source": [
    "import pandas as pd\n",
    "import numpy as np\n",
    "import matplotlib.pyplot as plt\n",
    "from sklearn.preprocessing import MinMaxScaler\n",
    "from collections import deque\n",
    "import random\n",
    "import tensorflow as tf\n",
    "from tensorflow.keras.models import Sequential\n",
    "from tensorflow.keras.layers import Dropout, Dense, LSTM\n",
    "from tensorflow.keras.preprocessing.sequence import TimeseriesGenerator\n",
    "from tensorflow.keras.optimizers import Adam\n",
    "from tensorflow.keras.callbacks import EarlyStopping\n",
    "import warnings\n",
    "warnings.filterwarnings('ignore')"
   ]
  },
  {
   "cell_type": "code",
   "execution_count": 739,
   "metadata": {},
   "outputs": [],
   "source": [
    "daysToPredict = 7\n",
    "country = 'Saudi Arabia'\n",
    "feature = \"deaths\" # 'confirmed' or 'deaths'\n",
    "numFeatures = 1\n",
    "learningRate = 0.001\n",
    "inputSize = 7"
   ]
  },
  {
   "cell_type": "code",
   "execution_count": 740,
   "metadata": {},
   "outputs": [
    {
     "name": "stdout",
     "output_type": "stream",
     "text": [
      "(271, 321)\n"
     ]
    }
   ],
   "source": [
    "df = pd.read_csv('https://raw.githubusercontent.com/CSSEGISandData/COVID-19/master/csse_covid_19_data/csse_covid_19_time_series/time_series_covid19_' + feature + '_global.csv')\n",
    "print(df.shape)"
   ]
  },
  {
   "cell_type": "code",
   "execution_count": 741,
   "metadata": {},
   "outputs": [
    {
     "data": {
      "text/html": [
       "<div>\n",
       "<style scoped>\n",
       "    .dataframe tbody tr th:only-of-type {\n",
       "        vertical-align: middle;\n",
       "    }\n",
       "\n",
       "    .dataframe tbody tr th {\n",
       "        vertical-align: top;\n",
       "    }\n",
       "\n",
       "    .dataframe thead th {\n",
       "        text-align: right;\n",
       "    }\n",
       "</style>\n",
       "<table border=\"1\" class=\"dataframe\">\n",
       "  <thead>\n",
       "    <tr style=\"text-align: right;\">\n",
       "      <th></th>\n",
       "      <th>Province/State</th>\n",
       "      <th>Country/Region</th>\n",
       "      <th>Lat</th>\n",
       "      <th>Long</th>\n",
       "      <th>1/22/20</th>\n",
       "      <th>1/23/20</th>\n",
       "      <th>1/24/20</th>\n",
       "      <th>1/25/20</th>\n",
       "      <th>1/26/20</th>\n",
       "      <th>1/27/20</th>\n",
       "      <th>...</th>\n",
       "      <th>11/24/20</th>\n",
       "      <th>11/25/20</th>\n",
       "      <th>11/26/20</th>\n",
       "      <th>11/27/20</th>\n",
       "      <th>11/28/20</th>\n",
       "      <th>11/29/20</th>\n",
       "      <th>11/30/20</th>\n",
       "      <th>12/1/20</th>\n",
       "      <th>12/2/20</th>\n",
       "      <th>12/3/20</th>\n",
       "    </tr>\n",
       "  </thead>\n",
       "  <tbody>\n",
       "    <tr>\n",
       "      <th>0</th>\n",
       "      <td>NaN</td>\n",
       "      <td>Afghanistan</td>\n",
       "      <td>33.93911</td>\n",
       "      <td>67.709953</td>\n",
       "      <td>0</td>\n",
       "      <td>0</td>\n",
       "      <td>0</td>\n",
       "      <td>0</td>\n",
       "      <td>0</td>\n",
       "      <td>0</td>\n",
       "      <td>...</td>\n",
       "      <td>1715</td>\n",
       "      <td>1728</td>\n",
       "      <td>1737</td>\n",
       "      <td>1740</td>\n",
       "      <td>1752</td>\n",
       "      <td>1774</td>\n",
       "      <td>1795</td>\n",
       "      <td>1797</td>\n",
       "      <td>1822</td>\n",
       "      <td>1841</td>\n",
       "    </tr>\n",
       "    <tr>\n",
       "      <th>1</th>\n",
       "      <td>NaN</td>\n",
       "      <td>Albania</td>\n",
       "      <td>41.15330</td>\n",
       "      <td>20.168300</td>\n",
       "      <td>0</td>\n",
       "      <td>0</td>\n",
       "      <td>0</td>\n",
       "      <td>0</td>\n",
       "      <td>0</td>\n",
       "      <td>0</td>\n",
       "      <td>...</td>\n",
       "      <td>735</td>\n",
       "      <td>743</td>\n",
       "      <td>753</td>\n",
       "      <td>771</td>\n",
       "      <td>787</td>\n",
       "      <td>798</td>\n",
       "      <td>810</td>\n",
       "      <td>822</td>\n",
       "      <td>839</td>\n",
       "      <td>852</td>\n",
       "    </tr>\n",
       "    <tr>\n",
       "      <th>2</th>\n",
       "      <td>NaN</td>\n",
       "      <td>Algeria</td>\n",
       "      <td>28.03390</td>\n",
       "      <td>1.659600</td>\n",
       "      <td>0</td>\n",
       "      <td>0</td>\n",
       "      <td>0</td>\n",
       "      <td>0</td>\n",
       "      <td>0</td>\n",
       "      <td>0</td>\n",
       "      <td>...</td>\n",
       "      <td>2309</td>\n",
       "      <td>2329</td>\n",
       "      <td>2352</td>\n",
       "      <td>2372</td>\n",
       "      <td>2393</td>\n",
       "      <td>2410</td>\n",
       "      <td>2431</td>\n",
       "      <td>2447</td>\n",
       "      <td>2464</td>\n",
       "      <td>2480</td>\n",
       "    </tr>\n",
       "    <tr>\n",
       "      <th>3</th>\n",
       "      <td>NaN</td>\n",
       "      <td>Andorra</td>\n",
       "      <td>42.50630</td>\n",
       "      <td>1.521800</td>\n",
       "      <td>0</td>\n",
       "      <td>0</td>\n",
       "      <td>0</td>\n",
       "      <td>0</td>\n",
       "      <td>0</td>\n",
       "      <td>0</td>\n",
       "      <td>...</td>\n",
       "      <td>76</td>\n",
       "      <td>76</td>\n",
       "      <td>76</td>\n",
       "      <td>76</td>\n",
       "      <td>76</td>\n",
       "      <td>76</td>\n",
       "      <td>76</td>\n",
       "      <td>76</td>\n",
       "      <td>76</td>\n",
       "      <td>77</td>\n",
       "    </tr>\n",
       "    <tr>\n",
       "      <th>4</th>\n",
       "      <td>NaN</td>\n",
       "      <td>Angola</td>\n",
       "      <td>-11.20270</td>\n",
       "      <td>17.873900</td>\n",
       "      <td>0</td>\n",
       "      <td>0</td>\n",
       "      <td>0</td>\n",
       "      <td>0</td>\n",
       "      <td>0</td>\n",
       "      <td>0</td>\n",
       "      <td>...</td>\n",
       "      <td>338</td>\n",
       "      <td>340</td>\n",
       "      <td>341</td>\n",
       "      <td>342</td>\n",
       "      <td>345</td>\n",
       "      <td>346</td>\n",
       "      <td>348</td>\n",
       "      <td>350</td>\n",
       "      <td>351</td>\n",
       "      <td>352</td>\n",
       "    </tr>\n",
       "  </tbody>\n",
       "</table>\n",
       "<p>5 rows × 321 columns</p>\n",
       "</div>"
      ],
      "text/plain": [
       "  Province/State Country/Region       Lat       Long  1/22/20  1/23/20  \\\n",
       "0            NaN    Afghanistan  33.93911  67.709953        0        0   \n",
       "1            NaN        Albania  41.15330  20.168300        0        0   \n",
       "2            NaN        Algeria  28.03390   1.659600        0        0   \n",
       "3            NaN        Andorra  42.50630   1.521800        0        0   \n",
       "4            NaN         Angola -11.20270  17.873900        0        0   \n",
       "\n",
       "   1/24/20  1/25/20  1/26/20  1/27/20  ...  11/24/20  11/25/20  11/26/20  \\\n",
       "0        0        0        0        0  ...      1715      1728      1737   \n",
       "1        0        0        0        0  ...       735       743       753   \n",
       "2        0        0        0        0  ...      2309      2329      2352   \n",
       "3        0        0        0        0  ...        76        76        76   \n",
       "4        0        0        0        0  ...       338       340       341   \n",
       "\n",
       "   11/27/20  11/28/20  11/29/20  11/30/20  12/1/20  12/2/20  12/3/20  \n",
       "0      1740      1752      1774      1795     1797     1822     1841  \n",
       "1       771       787       798       810      822      839      852  \n",
       "2      2372      2393      2410      2431     2447     2464     2480  \n",
       "3        76        76        76        76       76       76       77  \n",
       "4       342       345       346       348      350      351      352  \n",
       "\n",
       "[5 rows x 321 columns]"
      ]
     },
     "execution_count": 741,
     "metadata": {},
     "output_type": "execute_result"
    }
   ],
   "source": [
    "df.head()"
   ]
  },
  {
   "cell_type": "code",
   "execution_count": 742,
   "metadata": {},
   "outputs": [
    {
     "data": {
      "text/html": [
       "<div>\n",
       "<style scoped>\n",
       "    .dataframe tbody tr th:only-of-type {\n",
       "        vertical-align: middle;\n",
       "    }\n",
       "\n",
       "    .dataframe tbody tr th {\n",
       "        vertical-align: top;\n",
       "    }\n",
       "\n",
       "    .dataframe thead th {\n",
       "        text-align: right;\n",
       "    }\n",
       "</style>\n",
       "<table border=\"1\" class=\"dataframe\">\n",
       "  <thead>\n",
       "    <tr style=\"text-align: right;\">\n",
       "      <th></th>\n",
       "      <th>Province/State</th>\n",
       "      <th>Country/Region</th>\n",
       "      <th>Lat</th>\n",
       "      <th>Long</th>\n",
       "      <th>1/22/20</th>\n",
       "      <th>1/23/20</th>\n",
       "      <th>1/24/20</th>\n",
       "      <th>1/25/20</th>\n",
       "      <th>1/26/20</th>\n",
       "      <th>1/27/20</th>\n",
       "      <th>...</th>\n",
       "      <th>11/24/20</th>\n",
       "      <th>11/25/20</th>\n",
       "      <th>11/26/20</th>\n",
       "      <th>11/27/20</th>\n",
       "      <th>11/28/20</th>\n",
       "      <th>11/29/20</th>\n",
       "      <th>11/30/20</th>\n",
       "      <th>12/1/20</th>\n",
       "      <th>12/2/20</th>\n",
       "      <th>12/3/20</th>\n",
       "    </tr>\n",
       "  </thead>\n",
       "  <tbody>\n",
       "    <tr>\n",
       "      <th>218</th>\n",
       "      <td>NaN</td>\n",
       "      <td>Saudi Arabia</td>\n",
       "      <td>23.885942</td>\n",
       "      <td>45.079162</td>\n",
       "      <td>0</td>\n",
       "      <td>0</td>\n",
       "      <td>0</td>\n",
       "      <td>0</td>\n",
       "      <td>0</td>\n",
       "      <td>0</td>\n",
       "      <td>...</td>\n",
       "      <td>5811</td>\n",
       "      <td>5825</td>\n",
       "      <td>5840</td>\n",
       "      <td>5857</td>\n",
       "      <td>5870</td>\n",
       "      <td>5884</td>\n",
       "      <td>5896</td>\n",
       "      <td>5907</td>\n",
       "      <td>5919</td>\n",
       "      <td>5930</td>\n",
       "    </tr>\n",
       "  </tbody>\n",
       "</table>\n",
       "<p>1 rows × 321 columns</p>\n",
       "</div>"
      ],
      "text/plain": [
       "    Province/State Country/Region        Lat       Long  1/22/20  1/23/20  \\\n",
       "218            NaN   Saudi Arabia  23.885942  45.079162        0        0   \n",
       "\n",
       "     1/24/20  1/25/20  1/26/20  1/27/20  ...  11/24/20  11/25/20  11/26/20  \\\n",
       "218        0        0        0        0  ...      5811      5825      5840   \n",
       "\n",
       "     11/27/20  11/28/20  11/29/20  11/30/20  12/1/20  12/2/20  12/3/20  \n",
       "218      5857      5870      5884      5896     5907     5919     5930  \n",
       "\n",
       "[1 rows x 321 columns]"
      ]
     },
     "execution_count": 742,
     "metadata": {},
     "output_type": "execute_result"
    }
   ],
   "source": [
    "df = df[df['Country/Region'] == country]\n",
    "df.head()"
   ]
  },
  {
   "cell_type": "code",
   "execution_count": 743,
   "metadata": {},
   "outputs": [
    {
     "data": {
      "text/plain": [
       "218    699114\n",
       "dtype: int64"
      ]
     },
     "execution_count": 743,
     "metadata": {},
     "output_type": "execute_result"
    }
   ],
   "source": [
    "df[df.columns[4:]].sum(axis=1)"
   ]
  },
  {
   "cell_type": "code",
   "execution_count": 744,
   "metadata": {},
   "outputs": [
    {
     "data": {
      "text/html": [
       "<div>\n",
       "<style scoped>\n",
       "    .dataframe tbody tr th:only-of-type {\n",
       "        vertical-align: middle;\n",
       "    }\n",
       "\n",
       "    .dataframe tbody tr th {\n",
       "        vertical-align: top;\n",
       "    }\n",
       "\n",
       "    .dataframe thead th {\n",
       "        text-align: right;\n",
       "    }\n",
       "</style>\n",
       "<table border=\"1\" class=\"dataframe\">\n",
       "  <thead>\n",
       "    <tr style=\"text-align: right;\">\n",
       "      <th></th>\n",
       "      <th>deaths</th>\n",
       "    </tr>\n",
       "  </thead>\n",
       "  <tbody>\n",
       "    <tr>\n",
       "      <th>2020-11-29</th>\n",
       "      <td>5884</td>\n",
       "    </tr>\n",
       "    <tr>\n",
       "      <th>2020-11-30</th>\n",
       "      <td>5896</td>\n",
       "    </tr>\n",
       "    <tr>\n",
       "      <th>2020-12-01</th>\n",
       "      <td>5907</td>\n",
       "    </tr>\n",
       "    <tr>\n",
       "      <th>2020-12-02</th>\n",
       "      <td>5919</td>\n",
       "    </tr>\n",
       "    <tr>\n",
       "      <th>2020-12-03</th>\n",
       "      <td>5930</td>\n",
       "    </tr>\n",
       "  </tbody>\n",
       "</table>\n",
       "</div>"
      ],
      "text/plain": [
       "            deaths\n",
       "2020-11-29    5884\n",
       "2020-11-30    5896\n",
       "2020-12-01    5907\n",
       "2020-12-02    5919\n",
       "2020-12-03    5930"
      ]
     },
     "execution_count": 744,
     "metadata": {},
     "output_type": "execute_result"
    }
   ],
   "source": [
    "df_death = pd.DataFrame(df[df.columns[4:]].sum(), columns=[feature])\n",
    "df_death.index = pd.to_datetime(df_death.index)\n",
    "df_death.tail()"
   ]
  },
  {
   "cell_type": "code",
   "execution_count": 745,
   "metadata": {},
   "outputs": [
    {
     "data": {
      "image/png": "[encoded data removed]",
      "text/plain": [
       "<Figure size 720x360 with 1 Axes>"
      ]
     },
     "metadata": {
      "needs_background": "light"
     },
     "output_type": "display_data"
    }
   ],
   "source": [
    "df_death.plot(figsize=(10,5), title=country);"
   ]
  },
  {
   "cell_type": "code",
   "execution_count": 746,
   "metadata": {},
   "outputs": [
    {
     "name": "stdout",
     "output_type": "stream",
     "text": [
      "310\n",
      "7\n"
     ]
    }
   ],
   "source": [
    "train = df_death.iloc[:-daysToPredict]\n",
    "test = df_death.iloc[-daysToPredict:]\n",
    "print(len(train))\n",
    "print(len(test))"
   ]
  },
  {
   "cell_type": "code",
   "execution_count": 747,
   "metadata": {},
   "outputs": [],
   "source": [
    "scaler = MinMaxScaler()\n",
    "scaler.fit(train);"
   ]
  },
  {
   "cell_type": "code",
   "execution_count": 748,
   "metadata": {},
   "outputs": [],
   "source": [
    "scaledTrain = scaler.transform(train)\n",
    "scaledTest = scaler.transform(test)"
   ]
  },
  {
   "cell_type": "code",
   "execution_count": 749,
   "metadata": {},
   "outputs": [],
   "source": [
    "generator = TimeseriesGenerator(scaledTrain, scaledTrain, length=inputSize, batch_size=1)"
   ]
  },
  {
   "cell_type": "code",
   "execution_count": 750,
   "metadata": {},
   "outputs": [
    {
     "name": "stdout",
     "output_type": "stream",
     "text": [
      "310\n",
      "303\n"
     ]
    }
   ],
   "source": [
    "print(len(scaledTrain))\n",
    "print(len(generator))"
   ]
  },
  {
   "cell_type": "code",
   "execution_count": 751,
   "metadata": {},
   "outputs": [],
   "source": [
    "model = Sequential()\n",
    "model.add(LSTM(156, activation='relu', input_shape=(inputSize, numFeatures), return_sequences=True))\n",
    "\n",
    "# model.add(LSTM(64, activation='relu', return_sequences=True))\n",
    "model.add(LSTM(64, activation='relu'))\n",
    "\n",
    "model.add(Dense(64, activation='relu'))\n",
    "model.add(Dropout(0.2))\n",
    "\n",
    "model.add(Dense(32, activation='relu'))\n",
    "model.add(Dropout(0.2))\n",
    "model.add(Dense(1))\n",
    "\n",
    "# opt = Adam(lr=learningRate, decay=1e-6)\n",
    "model.compile(optimizer=\"adam\", loss='mse')"
   ]
  },
  {
   "cell_type": "code",
   "execution_count": 752,
   "metadata": {},
   "outputs": [
    {
     "name": "stdout",
     "output_type": "stream",
     "text": [
      "Model: \"sequential_28\"\n",
      "_________________________________________________________________\n",
      "Layer (type)                 Output Shape              Param #   \n",
      "=================================================================\n",
      "lstm_63 (LSTM)               (None, 7, 150)            91200     \n",
      "_________________________________________________________________\n",
      "lstm_64 (LSTM)               (None, 7, 64)             55040     \n",
      "_________________________________________________________________\n",
      "lstm_65 (LSTM)               (None, 32)                12416     \n",
      "_________________________________________________________________\n",
      "dense_72 (Dense)             (None, 32)                1056      \n",
      "_________________________________________________________________\n",
      "dropout_41 (Dropout)         (None, 32)                0         \n",
      "_________________________________________________________________\n",
      "dense_73 (Dense)             (None, 1)                 33        \n",
      "=================================================================\n",
      "Total params: 159,745\n",
      "Trainable params: 159,745\n",
      "Non-trainable params: 0\n",
      "_________________________________________________________________\n"
     ]
    }
   ],
   "source": [
    "model.summary()"
   ]
  },
  {
   "cell_type": "code",
   "execution_count": 753,
   "metadata": {},
   "outputs": [],
   "source": [
    "val_set = np.append(scaledTrain[55], scaledTest)\n",
    "val_set = val_set.reshape(daysToPredict+1,1)"
   ]
  },
  {
   "cell_type": "code",
   "execution_count": 754,
   "metadata": {},
   "outputs": [],
   "source": [
    "val_gen = TimeseriesGenerator(val_set, val_set, length=inputSize, batch_size=numFeatures)"
   ]
  },
  {
   "cell_type": "code",
   "execution_count": 755,
   "metadata": {},
   "outputs": [],
   "source": [
    "earlyStopping = EarlyStopping(monitor='val_loss', patience=20, restore_best_weights=True)"
   ]
  },
  {
   "cell_type": "code",
   "execution_count": 756,
   "metadata": {},
   "outputs": [
    {
     "name": "stdout",
     "output_type": "stream",
     "text": [
      "Epoch 1/100\n",
      "10/10 [==============================] - 0s 49ms/step - loss: 0.2871 - val_loss: 0.9163\n",
      "Epoch 2/100\n",
      "10/10 [==============================] - 0s 10ms/step - loss: 0.0704 - val_loss: 0.7950\n",
      "Epoch 3/100\n",
      "10/10 [==============================] - 0s 9ms/step - loss: 0.1863 - val_loss: 0.5177\n",
      "Epoch 4/100\n",
      "10/10 [==============================] - 0s 8ms/step - loss: 0.0894 - val_loss: 0.0019\n",
      "Epoch 5/100\n",
      "10/10 [==============================] - 0s 9ms/step - loss: 0.1330 - val_loss: 0.1303\n",
      "Epoch 6/100\n",
      "10/10 [==============================] - 0s 9ms/step - loss: 0.0237 - val_loss: 0.3114\n",
      "Epoch 7/100\n",
      "10/10 [==============================] - 0s 8ms/step - loss: 0.0355 - val_loss: 0.2329\n",
      "Epoch 8/100\n",
      "10/10 [==============================] - 0s 9ms/step - loss: 0.0285 - val_loss: 0.1346\n",
      "Epoch 9/100\n",
      "10/10 [==============================] - 0s 9ms/step - loss: 0.0143 - val_loss: 0.1078\n",
      "Epoch 10/100\n",
      "10/10 [==============================] - 0s 9ms/step - loss: 0.0099 - val_loss: 0.2115\n",
      "Epoch 11/100\n",
      "10/10 [==============================] - 0s 9ms/step - loss: 0.0339 - val_loss: 0.1459\n",
      "Epoch 12/100\n",
      "10/10 [==============================] - 0s 9ms/step - loss: 0.0041 - val_loss: 0.1021\n",
      "Epoch 13/100\n",
      "10/10 [==============================] - 0s 9ms/step - loss: 0.0226 - val_loss: 0.0917\n",
      "Epoch 14/100\n",
      "10/10 [==============================] - 0s 9ms/step - loss: 0.0070 - val_loss: 0.2036\n",
      "Epoch 15/100\n",
      "10/10 [==============================] - 0s 9ms/step - loss: 0.0072 - val_loss: 0.1115\n",
      "Epoch 16/100\n",
      "10/10 [==============================] - 0s 10ms/step - loss: 0.0158 - val_loss: 0.1093\n",
      "Epoch 17/100\n",
      "10/10 [==============================] - 0s 10ms/step - loss: 0.0069 - val_loss: 0.2039\n",
      "Epoch 18/100\n",
      "10/10 [==============================] - 0s 10ms/step - loss: 0.0106 - val_loss: 0.1863\n",
      "Epoch 19/100\n",
      "10/10 [==============================] - 0s 9ms/step - loss: 0.0131 - val_loss: 0.0828\n",
      "Epoch 20/100\n",
      "10/10 [==============================] - 0s 9ms/step - loss: 0.0050 - val_loss: 0.1197\n",
      "Epoch 21/100\n",
      "10/10 [==============================] - 0s 9ms/step - loss: 0.0427 - val_loss: 0.0391\n",
      "Epoch 22/100\n",
      "10/10 [==============================] - 0s 10ms/step - loss: 0.0216 - val_loss: 0.1139\n",
      "Epoch 23/100\n",
      "10/10 [==============================] - 0s 9ms/step - loss: 0.0052 - val_loss: 0.2145\n",
      "Epoch 24/100\n",
      "10/10 [==============================] - 0s 9ms/step - loss: 0.0031 - val_loss: 0.1704\n",
      "Epoch 25/100\n",
      "10/10 [==============================] - 0s 9ms/step - loss: 0.0025 - val_loss: 0.1497\n",
      "Epoch 26/100\n",
      "10/10 [==============================] - 0s 10ms/step - loss: 0.0223 - val_loss: 0.1205\n",
      "Epoch 27/100\n",
      "10/10 [==============================] - 0s 10ms/step - loss: 0.0066 - val_loss: 0.1737\n",
      "Epoch 28/100\n",
      "10/10 [==============================] - 0s 10ms/step - loss: 0.0051 - val_loss: 0.1194\n",
      "Epoch 29/100\n",
      "10/10 [==============================] - 0s 10ms/step - loss: 0.0422 - val_loss: 0.0230\n",
      "Epoch 30/100\n",
      "10/10 [==============================] - 0s 9ms/step - loss: 0.0296 - val_loss: 0.2799\n",
      "Epoch 31/100\n",
      "10/10 [==============================] - 0s 9ms/step - loss: 0.0233 - val_loss: 0.2227\n",
      "Epoch 32/100\n",
      "10/10 [==============================] - 0s 9ms/step - loss: 0.0412 - val_loss: 0.0579\n",
      "Epoch 33/100\n",
      "10/10 [==============================] - 0s 9ms/step - loss: 0.0087 - val_loss: 0.0506\n",
      "Epoch 34/100\n",
      "10/10 [==============================] - 0s 9ms/step - loss: 0.0327 - val_loss: 0.2122\n",
      "Epoch 35/100\n",
      "10/10 [==============================] - 0s 9ms/step - loss: 0.0236 - val_loss: 0.1541\n",
      "Epoch 36/100\n",
      "10/10 [==============================] - 0s 9ms/step - loss: 0.0089 - val_loss: 0.1042\n",
      "Epoch 37/100\n",
      "10/10 [==============================] - 0s 8ms/step - loss: 0.0082 - val_loss: 0.0838\n",
      "Epoch 38/100\n",
      "10/10 [==============================] - 0s 9ms/step - loss: 0.0225 - val_loss: 0.0872\n",
      "Epoch 39/100\n",
      "10/10 [==============================] - 0s 9ms/step - loss: 0.0282 - val_loss: 0.2329\n",
      "Epoch 40/100\n",
      "10/10 [==============================] - 0s 8ms/step - loss: 0.0107 - val_loss: 0.1724\n",
      "Epoch 41/100\n",
      "10/10 [==============================] - 0s 9ms/step - loss: 0.0046 - val_loss: 0.1251\n",
      "Epoch 42/100\n",
      "10/10 [==============================] - 0s 9ms/step - loss: 0.0244 - val_loss: 0.0725\n",
      "Epoch 43/100\n",
      "10/10 [==============================] - 0s 9ms/step - loss: 0.0106 - val_loss: 0.1409\n",
      "Epoch 44/100\n",
      "10/10 [==============================] - 0s 9ms/step - loss: 0.0163 - val_loss: 0.2065\n",
      "Epoch 45/100\n",
      "10/10 [==============================] - 0s 9ms/step - loss: 0.0051 - val_loss: 0.1266\n",
      "Epoch 46/100\n",
      "10/10 [==============================] - 0s 9ms/step - loss: 0.0013 - val_loss: 0.0676\n",
      "Epoch 47/100\n",
      "10/10 [==============================] - 0s 9ms/step - loss: 0.0191 - val_loss: 0.1033\n",
      "Epoch 48/100\n",
      "10/10 [==============================] - 0s 9ms/step - loss: 0.0125 - val_loss: 0.1500\n",
      "Epoch 49/100\n",
      "10/10 [==============================] - 0s 9ms/step - loss: 0.0050 - val_loss: 0.1020\n",
      "Epoch 50/100\n",
      "10/10 [==============================] - 0s 9ms/step - loss: 0.0058 - val_loss: 0.1017\n",
      "Epoch 51/100\n",
      "10/10 [==============================] - 0s 9ms/step - loss: 0.0059 - val_loss: 0.1491\n",
      "Epoch 52/100\n",
      "10/10 [==============================] - 0s 9ms/step - loss: 0.0032 - val_loss: 0.1331\n",
      "Epoch 53/100\n",
      "10/10 [==============================] - 0s 10ms/step - loss: 0.0048 - val_loss: 0.0908\n",
      "Epoch 54/100\n",
      "10/10 [==============================] - 0s 10ms/step - loss: 0.0197 - val_loss: 0.0994\n",
      "Epoch 55/100\n",
      "10/10 [==============================] - 0s 10ms/step - loss: 0.0110 - val_loss: 0.1594\n",
      "Epoch 56/100\n",
      "10/10 [==============================] - 0s 9ms/step - loss: 0.0077 - val_loss: 0.1110\n",
      "Epoch 57/100\n",
      "10/10 [==============================] - 0s 9ms/step - loss: 0.0076 - val_loss: 0.0640\n",
      "Epoch 58/100\n",
      "10/10 [==============================] - 0s 9ms/step - loss: 0.0230 - val_loss: 0.0882\n",
      "Epoch 59/100\n",
      "10/10 [==============================] - 0s 9ms/step - loss: 0.0137 - val_loss: 0.1108\n",
      "Epoch 60/100\n",
      "10/10 [==============================] - 0s 9ms/step - loss: 0.0039 - val_loss: 0.1130\n",
      "Epoch 61/100\n",
      "10/10 [==============================] - 0s 8ms/step - loss: 0.0095 - val_loss: 0.0871\n",
      "Epoch 62/100\n",
      "10/10 [==============================] - 0s 9ms/step - loss: 0.0083 - val_loss: 0.0390\n",
      "Epoch 63/100\n",
      "10/10 [==============================] - 0s 8ms/step - loss: 0.0068 - val_loss: 0.0850\n",
      "Epoch 64/100\n",
      "10/10 [==============================] - 0s 8ms/step - loss: 0.0038 - val_loss: 0.1669\n",
      "Epoch 65/100\n",
      "10/10 [==============================] - 0s 8ms/step - loss: 0.0168 - val_loss: 0.1138\n",
      "Epoch 66/100\n",
      "10/10 [==============================] - 0s 8ms/step - loss: 0.0024 - val_loss: 0.0424\n",
      "Epoch 67/100\n",
      "10/10 [==============================] - 0s 8ms/step - loss: 0.0054 - val_loss: 0.0664\n",
      "Epoch 68/100\n",
      "10/10 [==============================] - 0s 8ms/step - loss: 0.0013 - val_loss: 0.1167\n",
      "Epoch 69/100\n",
      "10/10 [==============================] - 0s 8ms/step - loss: 0.0207 - val_loss: 0.0498\n",
      "Epoch 70/100\n",
      "10/10 [==============================] - 0s 7ms/step - loss: 0.0229 - val_loss: 0.0246\n",
      "Epoch 71/100\n",
      "10/10 [==============================] - 0s 8ms/step - loss: 0.0048 - val_loss: 0.1798\n",
      "Epoch 72/100\n",
      "10/10 [==============================] - 0s 7ms/step - loss: 0.0071 - val_loss: 0.1344\n",
      "Epoch 73/100\n",
      "10/10 [==============================] - 0s 8ms/step - loss: 0.0065 - val_loss: 0.0808\n",
      "Epoch 74/100\n",
      "10/10 [==============================] - 0s 8ms/step - loss: 0.0059 - val_loss: 0.1589\n",
      "Epoch 75/100\n",
      "10/10 [==============================] - 0s 8ms/step - loss: 0.0197 - val_loss: 0.1488\n",
      "Epoch 76/100\n",
      "10/10 [==============================] - 0s 8ms/step - loss: 0.0021 - val_loss: 0.1062\n",
      "Epoch 77/100\n",
      "10/10 [==============================] - 0s 8ms/step - loss: 0.0088 - val_loss: 0.0786\n",
      "Epoch 78/100\n",
      "10/10 [==============================] - 0s 8ms/step - loss: 0.0080 - val_loss: 0.0868\n",
      "Epoch 79/100\n",
      "10/10 [==============================] - 0s 8ms/step - loss: 0.0113 - val_loss: 0.1119\n",
      "Epoch 80/100\n",
      "10/10 [==============================] - 0s 8ms/step - loss: 0.0022 - val_loss: 0.0953\n",
      "Epoch 81/100\n",
      "10/10 [==============================] - 0s 8ms/step - loss: 0.0022 - val_loss: 0.1224\n",
      "Epoch 82/100\n",
      "10/10 [==============================] - 0s 8ms/step - loss: 0.0125 - val_loss: 0.0919\n"
     ]
    },
    {
     "name": "stdout",
     "output_type": "stream",
     "text": [
      "Epoch 83/100\n",
      "10/10 [==============================] - 0s 7ms/step - loss: 0.0035 - val_loss: 0.0768\n",
      "Epoch 84/100\n",
      "10/10 [==============================] - 0s 7ms/step - loss: 0.0090 - val_loss: 0.1436\n",
      "Epoch 85/100\n",
      "10/10 [==============================] - 0s 7ms/step - loss: 0.0130 - val_loss: 0.1137\n",
      "Epoch 86/100\n",
      "10/10 [==============================] - 0s 8ms/step - loss: 0.0054 - val_loss: 0.0764\n",
      "Epoch 87/100\n",
      "10/10 [==============================] - 0s 8ms/step - loss: 0.0046 - val_loss: 0.0696\n",
      "Epoch 88/100\n",
      "10/10 [==============================] - 0s 7ms/step - loss: 0.0075 - val_loss: 0.0836\n",
      "Epoch 89/100\n",
      "10/10 [==============================] - 0s 8ms/step - loss: 0.0178 - val_loss: 0.2618\n",
      "Epoch 90/100\n",
      "10/10 [==============================] - 0s 8ms/step - loss: 0.0293 - val_loss: 0.1346\n",
      "Epoch 91/100\n",
      "10/10 [==============================] - 0s 8ms/step - loss: 0.0012 - val_loss: 0.0713\n",
      "Epoch 92/100\n",
      "10/10 [==============================] - 0s 8ms/step - loss: 0.0064 - val_loss: 0.1031\n",
      "Epoch 93/100\n",
      "10/10 [==============================] - 0s 7ms/step - loss: 0.0078 - val_loss: 0.0827\n",
      "Epoch 94/100\n",
      "10/10 [==============================] - 0s 8ms/step - loss: 0.0021 - val_loss: 0.1295\n",
      "Epoch 95/100\n",
      "10/10 [==============================] - 0s 10ms/step - loss: 0.0018 - val_loss: 0.1915\n",
      "Epoch 96/100\n",
      "10/10 [==============================] - 0s 9ms/step - loss: 0.0164 - val_loss: 0.1198\n",
      "Epoch 97/100\n",
      "10/10 [==============================] - 0s 7ms/step - loss: 0.0087 - val_loss: 0.0405\n",
      "Epoch 98/100\n",
      "10/10 [==============================] - 0s 7ms/step - loss: 0.0168 - val_loss: 0.1262\n",
      "Epoch 99/100\n",
      "10/10 [==============================] - 0s 7ms/step - loss: 0.0147 - val_loss: 0.1317\n",
      "Epoch 100/100\n",
      "10/10 [==============================] - 0s 7ms/step - loss: 0.0154 - val_loss: 0.0971\n"
     ]
    }
   ],
   "source": [
    "# model.fit_generator(generator, validation_data=val_gen, epochs=100, callbacks=[earlyStopping], steps_per_epoch=10);\n",
    "model.fit_generator(generator, validation_data=val_gen, epochs=100, steps_per_epoch=10);"
   ]
  },
  {
   "cell_type": "code",
   "execution_count": 757,
   "metadata": {},
   "outputs": [
    {
     "data": {
      "image/png": "[encoded data removed]",
      "text/plain": [
       "<Figure size 432x288 with 1 Axes>"
      ]
     },
     "metadata": {
      "needs_background": "light"
     },
     "output_type": "display_data"
    }
   ],
   "source": [
    "pd.DataFrame(model.history.history).plot(title=\"loss vs epochs curve\");"
   ]
  },
  {
   "cell_type": "code",
   "execution_count": 758,
   "metadata": {},
   "outputs": [],
   "source": [
    "testPred = []\n",
    "\n",
    "firstEval = scaledTrain[-inputSize:]\n",
    "currentBatch = firstEval.reshape(1, inputSize, numFeatures)"
   ]
  },
  {
   "cell_type": "code",
   "execution_count": 759,
   "metadata": {},
   "outputs": [],
   "source": [
    "for i in range(len(test)+daysToPredict):\n",
    "    currentPred = model.predict(currentBatch)[0]\n",
    "    testPred.append(currentPred)\n",
    "    currentBatch = np.append(currentBatch[:,1:,:], [[currentPred]], axis=1)"
   ]
  },
  {
   "cell_type": "code",
   "execution_count": 760,
   "metadata": {},
   "outputs": [
    {
     "data": {
      "text/plain": [
       "[array([0.9538964], dtype=float32),\n",
       " array([0.9550503], dtype=float32),\n",
       " array([0.95460165], dtype=float32),\n",
       " array([0.9525008], dtype=float32),\n",
       " array([0.94838107], dtype=float32),\n",
       " array([0.9422344], dtype=float32),\n",
       " array([0.93407], dtype=float32),\n",
       " array([0.9237201], dtype=float32),\n",
       " array([0.9218746], dtype=float32),\n",
       " array([0.91877747], dtype=float32),\n",
       " array([0.91476375], dtype=float32),\n",
       " array([0.9100499], dtype=float32),\n",
       " array([0.90508455], dtype=float32),\n",
       " array([0.9003365], dtype=float32)]"
      ]
     },
     "execution_count": 760,
     "metadata": {},
     "output_type": "execute_result"
    }
   ],
   "source": [
    "testPred"
   ]
  },
  {
   "cell_type": "code",
   "execution_count": 761,
   "metadata": {},
   "outputs": [
    {
     "data": {
      "text/plain": [
       "array([5570.75499535, 5577.49369144, 5574.87360954, 5562.60478973,\n",
       "       5538.54542732, 5502.6488781 , 5454.96874809, 5394.52550888,\n",
       "       5383.74756336, 5365.66040039, 5342.22029209, 5314.69150543,\n",
       "       5285.69377422, 5257.96518326])"
      ]
     },
     "execution_count": 761,
     "metadata": {},
     "output_type": "execute_result"
    }
   ],
   "source": [
    "truePred = scaler.inverse_transform(testPred)\n",
    "truePred[:,0]"
   ]
  },
  {
   "cell_type": "code",
   "execution_count": 762,
   "metadata": {},
   "outputs": [
    {
     "data": {
      "text/html": [
       "<div>\n",
       "<style scoped>\n",
       "    .dataframe tbody tr th:only-of-type {\n",
       "        vertical-align: middle;\n",
       "    }\n",
       "\n",
       "    .dataframe tbody tr th {\n",
       "        vertical-align: top;\n",
       "    }\n",
       "\n",
       "    .dataframe thead th {\n",
       "        text-align: right;\n",
       "    }\n",
       "</style>\n",
       "<table border=\"1\" class=\"dataframe\">\n",
       "  <thead>\n",
       "    <tr style=\"text-align: right;\">\n",
       "      <th></th>\n",
       "      <th>deaths</th>\n",
       "      <th>prediction</th>\n",
       "    </tr>\n",
       "  </thead>\n",
       "  <tbody>\n",
       "    <tr>\n",
       "      <th>2020-11-27</th>\n",
       "      <td>NaN</td>\n",
       "      <td>NaN</td>\n",
       "    </tr>\n",
       "    <tr>\n",
       "      <th>2020-11-28</th>\n",
       "      <td>NaN</td>\n",
       "      <td>NaN</td>\n",
       "    </tr>\n",
       "    <tr>\n",
       "      <th>2020-11-29</th>\n",
       "      <td>NaN</td>\n",
       "      <td>NaN</td>\n",
       "    </tr>\n",
       "    <tr>\n",
       "      <th>2020-11-30</th>\n",
       "      <td>NaN</td>\n",
       "      <td>NaN</td>\n",
       "    </tr>\n",
       "    <tr>\n",
       "      <th>2020-12-01</th>\n",
       "      <td>NaN</td>\n",
       "      <td>NaN</td>\n",
       "    </tr>\n",
       "    <tr>\n",
       "      <th>2020-12-02</th>\n",
       "      <td>NaN</td>\n",
       "      <td>NaN</td>\n",
       "    </tr>\n",
       "    <tr>\n",
       "      <th>2020-12-03</th>\n",
       "      <td>NaN</td>\n",
       "      <td>NaN</td>\n",
       "    </tr>\n",
       "    <tr>\n",
       "      <th>2020-12-04</th>\n",
       "      <td>NaN</td>\n",
       "      <td>NaN</td>\n",
       "    </tr>\n",
       "    <tr>\n",
       "      <th>2020-12-05</th>\n",
       "      <td>NaN</td>\n",
       "      <td>NaN</td>\n",
       "    </tr>\n",
       "    <tr>\n",
       "      <th>2020-12-06</th>\n",
       "      <td>NaN</td>\n",
       "      <td>NaN</td>\n",
       "    </tr>\n",
       "    <tr>\n",
       "      <th>2020-12-07</th>\n",
       "      <td>NaN</td>\n",
       "      <td>NaN</td>\n",
       "    </tr>\n",
       "    <tr>\n",
       "      <th>2020-12-08</th>\n",
       "      <td>NaN</td>\n",
       "      <td>NaN</td>\n",
       "    </tr>\n",
       "    <tr>\n",
       "      <th>2020-12-09</th>\n",
       "      <td>NaN</td>\n",
       "      <td>NaN</td>\n",
       "    </tr>\n",
       "    <tr>\n",
       "      <th>2020-12-10</th>\n",
       "      <td>NaN</td>\n",
       "      <td>NaN</td>\n",
       "    </tr>\n",
       "  </tbody>\n",
       "</table>\n",
       "</div>"
      ],
      "text/plain": [
       "           deaths prediction\n",
       "2020-11-27    NaN        NaN\n",
       "2020-11-28    NaN        NaN\n",
       "2020-11-29    NaN        NaN\n",
       "2020-11-30    NaN        NaN\n",
       "2020-12-01    NaN        NaN\n",
       "2020-12-02    NaN        NaN\n",
       "2020-12-03    NaN        NaN\n",
       "2020-12-04    NaN        NaN\n",
       "2020-12-05    NaN        NaN\n",
       "2020-12-06    NaN        NaN\n",
       "2020-12-07    NaN        NaN\n",
       "2020-12-08    NaN        NaN\n",
       "2020-12-09    NaN        NaN\n",
       "2020-12-10    NaN        NaN"
      ]
     },
     "execution_count": 762,
     "metadata": {},
     "output_type": "execute_result"
    }
   ],
   "source": [
    "timeSeriesArr = test.index\n",
    "for k in range(0,daysToPredict):\n",
    "    timeSeriesArr = timeSeriesArr.append(timeSeriesArr[-1:] + pd.DateOffset(1))\n",
    "\n",
    "df_forecast = pd.DataFrame(columns=[feature, \"prediction\"], index=timeSeriesArr)\n",
    "df_forecast"
   ]
  },
  {
   "cell_type": "code",
   "execution_count": 763,
   "metadata": {},
   "outputs": [],
   "source": [
    "df_forecast.loc[:,\"prediction\"] = truePred[:,0]\n",
    "df_forecast.loc[:,feature] = test[feature]"
   ]
  },
  {
   "cell_type": "code",
   "execution_count": 764,
   "metadata": {},
   "outputs": [
    {
     "data": {
      "text/html": [
       "<div>\n",
       "<style scoped>\n",
       "    .dataframe tbody tr th:only-of-type {\n",
       "        vertical-align: middle;\n",
       "    }\n",
       "\n",
       "    .dataframe tbody tr th {\n",
       "        vertical-align: top;\n",
       "    }\n",
       "\n",
       "    .dataframe thead th {\n",
       "        text-align: right;\n",
       "    }\n",
       "</style>\n",
       "<table border=\"1\" class=\"dataframe\">\n",
       "  <thead>\n",
       "    <tr style=\"text-align: right;\">\n",
       "      <th></th>\n",
       "      <th>deaths</th>\n",
       "      <th>prediction</th>\n",
       "    </tr>\n",
       "  </thead>\n",
       "  <tbody>\n",
       "    <tr>\n",
       "      <th>2020-11-27</th>\n",
       "      <td>5857.0</td>\n",
       "      <td>5570.754995</td>\n",
       "    </tr>\n",
       "    <tr>\n",
       "      <th>2020-11-28</th>\n",
       "      <td>5870.0</td>\n",
       "      <td>5577.493691</td>\n",
       "    </tr>\n",
       "    <tr>\n",
       "      <th>2020-11-29</th>\n",
       "      <td>5884.0</td>\n",
       "      <td>5574.873610</td>\n",
       "    </tr>\n",
       "    <tr>\n",
       "      <th>2020-11-30</th>\n",
       "      <td>5896.0</td>\n",
       "      <td>5562.604790</td>\n",
       "    </tr>\n",
       "    <tr>\n",
       "      <th>2020-12-01</th>\n",
       "      <td>5907.0</td>\n",
       "      <td>5538.545427</td>\n",
       "    </tr>\n",
       "    <tr>\n",
       "      <th>2020-12-02</th>\n",
       "      <td>5919.0</td>\n",
       "      <td>5502.648878</td>\n",
       "    </tr>\n",
       "    <tr>\n",
       "      <th>2020-12-03</th>\n",
       "      <td>5930.0</td>\n",
       "      <td>5454.968748</td>\n",
       "    </tr>\n",
       "    <tr>\n",
       "      <th>2020-12-04</th>\n",
       "      <td>NaN</td>\n",
       "      <td>5394.525509</td>\n",
       "    </tr>\n",
       "    <tr>\n",
       "      <th>2020-12-05</th>\n",
       "      <td>NaN</td>\n",
       "      <td>5383.747563</td>\n",
       "    </tr>\n",
       "    <tr>\n",
       "      <th>2020-12-06</th>\n",
       "      <td>NaN</td>\n",
       "      <td>5365.660400</td>\n",
       "    </tr>\n",
       "    <tr>\n",
       "      <th>2020-12-07</th>\n",
       "      <td>NaN</td>\n",
       "      <td>5342.220292</td>\n",
       "    </tr>\n",
       "    <tr>\n",
       "      <th>2020-12-08</th>\n",
       "      <td>NaN</td>\n",
       "      <td>5314.691505</td>\n",
       "    </tr>\n",
       "    <tr>\n",
       "      <th>2020-12-09</th>\n",
       "      <td>NaN</td>\n",
       "      <td>5285.693774</td>\n",
       "    </tr>\n",
       "    <tr>\n",
       "      <th>2020-12-10</th>\n",
       "      <td>NaN</td>\n",
       "      <td>5257.965183</td>\n",
       "    </tr>\n",
       "  </tbody>\n",
       "</table>\n",
       "</div>"
      ],
      "text/plain": [
       "            deaths   prediction\n",
       "2020-11-27  5857.0  5570.754995\n",
       "2020-11-28  5870.0  5577.493691\n",
       "2020-11-29  5884.0  5574.873610\n",
       "2020-11-30  5896.0  5562.604790\n",
       "2020-12-01  5907.0  5538.545427\n",
       "2020-12-02  5919.0  5502.648878\n",
       "2020-12-03  5930.0  5454.968748\n",
       "2020-12-04     NaN  5394.525509\n",
       "2020-12-05     NaN  5383.747563\n",
       "2020-12-06     NaN  5365.660400\n",
       "2020-12-07     NaN  5342.220292\n",
       "2020-12-08     NaN  5314.691505\n",
       "2020-12-09     NaN  5285.693774\n",
       "2020-12-10     NaN  5257.965183"
      ]
     },
     "execution_count": 764,
     "metadata": {},
     "output_type": "execute_result"
    }
   ],
   "source": [
    "df_forecast"
   ]
  },
  {
   "cell_type": "code",
   "execution_count": 765,
   "metadata": {},
   "outputs": [
    {
     "data": {
      "image/png": "[encoded data removed]",
      "text/plain": [
       "<Figure size 432x288 with 1 Axes>"
      ]
     },
     "metadata": {
      "needs_background": "light"
     },
     "output_type": "display_data"
    }
   ],
   "source": [
    "df_forecast.plot(title=\"Number of \" + feature + \" for the next \" + str(daysToPredict) + \" days in \" + country);"
   ]
  },
  {
   "cell_type": "code",
   "execution_count": null,
   "metadata": {},
   "outputs": [],
   "source": []
  }
 ],
 "metadata": {
  "kernelspec": {
   "display_name": "Python 3",
   "language": "python",
   "name": "python3"
  },
  "language_info": {
   "codemirror_mode": {
    "name": "ipython",
    "version": 3
   },
   "file_extension": ".py",
   "mimetype": "text/x-python",
   "name": "python",
   "nbconvert_exporter": "python",
   "pygments_lexer": "ipython3",
   "version": "3.7.5"
  }
 },
 "nbformat": 4,
 "nbformat_minor": 4
}
